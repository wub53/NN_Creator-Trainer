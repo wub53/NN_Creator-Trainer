{
  "cells": [
    {
      "cell_type": "code",
      "execution_count": null,
      "metadata": {
        "id": "rKY7LAMrV7En"
      },
      "outputs": [],
      "source": [
        "# !!!!!!    For more customization reinvent your own version of the draw_dot() method and topo method (topological sort)"
      ]
    },
    {
      "cell_type": "code",
      "execution_count": null,
      "metadata": {
        "id": "nJFSoU6ECWYK"
      },
      "outputs": [],
      "source": [
        "import math\n"
      ]
    },
    {
      "cell_type": "code",
      "execution_count": null,
      "metadata": {
        "id": "07pJ4lmbCyWq"
      },
      "outputs": [],
      "source": [
        "import numpy as np"
      ]
    },
    {
      "cell_type": "code",
      "execution_count": null,
      "metadata": {
        "id": "H5yXhDfAC01r"
      },
      "outputs": [],
      "source": [
        "import matplotlib.pyplot as plt\n"
      ]
    },
    {
      "cell_type": "code",
      "execution_count": null,
      "metadata": {
        "id": "94yQNMSVC6uT"
      },
      "outputs": [],
      "source": [
        "def f(x):\n",
        "  return 3*x**2 - 4*x + 5\n",
        "  "
      ]
    },
    {
      "cell_type": "code",
      "execution_count": null,
      "metadata": {
        "colab": {
          "base_uri": "https://localhost:8080/"
        },
        "id": "dAR1a3aWDWH7",
        "outputId": "afa17fff-2da4-4cb8-8877-f03fb434bcf7"
      },
      "outputs": [
        {
          "data": {
            "text/plain": [
              "5.279999999999999"
            ]
          },
          "execution_count": 5,
          "metadata": {},
          "output_type": "execute_result"
        }
      ],
      "source": [
        "f(1.40)"
      ]
    },
    {
      "cell_type": "code",
      "execution_count": null,
      "metadata": {
        "colab": {
          "base_uri": "https://localhost:8080/",
          "height": 282
        },
        "id": "ZFAAJSDyDZ0y",
        "outputId": "ec80bd5a-9abd-4e8b-f632-4b1df47b5441"
      },
      "outputs": [
        {
          "data": {
            "text/plain": [
              "[<matplotlib.lines.Line2D at 0x7f32e40627c0>]"
            ]
          },
          "execution_count": 6,
          "metadata": {},
          "output_type": "execute_result"
        },
        {
          "data": {
            "image/png": "[encoded data removed]",
            "text/plain": [
              "<Figure size 432x288 with 1 Axes>"
            ]
          },
          "metadata": {
            "needs_background": "light"
          },
          "output_type": "display_data"
        }
      ],
      "source": [
        "xs = np.arange(-5,5,0.25)\n",
        "ys = f(xs)\n",
        "plt.plot(xs,ys)"
      ]
    },
    {
      "cell_type": "code",
      "execution_count": null,
      "metadata": {
        "id": "8YbkAOHXQglQ"
      },
      "outputs": [],
      "source": [
        "class Variable:\n",
        "  def __init__(self, value, _childs=(), _operation = '',label = '' ):\n",
        "    self.grad = 0.0\n",
        "    self._backward = lambda: None\n",
        "    self.label = label\n",
        "    self.value = value\n",
        "    self.prev = set(_childs)\n",
        "    self.operation = _operation\n",
        "\n",
        "  \n",
        "  def __repr__(self):\n",
        "    return f\"Value(data = {self.value})\"\n",
        "\n",
        "  def __add__(self,other):\n",
        "    if (type(other) != Variable): other = Variable(other)\n",
        "    if(type(self) != Variable): self = Variable(self)\n",
        "    output = Variable(self.value + other.value)\n",
        "    t = (self,other)\n",
        "    output.prev = set (t)\n",
        "    output.operation = '+'\n",
        "\n",
        "    def _backward():\n",
        "      self.grad += 1.0 * output.grad\n",
        "      other.grad += 1.0 * output.grad\n",
        "    output._backward = _backward\n",
        "\n",
        "    return output\n",
        "  \n",
        "  def __mul__(self,other):\n",
        "    if (type(other) != Variable): other = Variable(other)\n",
        "    output = Variable(self.value * other.value )\n",
        "    t = (self,other)\n",
        "    output.prev = set (t)\n",
        "    output.operation = '*'\n",
        "    \n",
        "    def _backward():\n",
        "      self.grad += other.value * output.grad\n",
        "      other.grad += self.value * output.grad\n",
        "    output._backward = _backward\n",
        "\n",
        "    return output\n",
        "\n",
        "  def __sub__(self, other): # self - other\n",
        "    if (type(other) != Variable): other = Variable(other)\n",
        "    output = Variable(self.value - other.value)\n",
        "    t = (self,other)\n",
        "    output.prev = set (t)\n",
        "    output.operation = '-'\n",
        "\n",
        "    def _backward():\n",
        "      self.grad += 1.0 * output.grad\n",
        "      other.grad += -1.0 * output.grad\n",
        "    output._backward = _backward\n",
        "    \n",
        "    return output\n",
        "\n",
        "  def __pow__(self, other):\n",
        "    assert isinstance(other, (int, float)), \"only supporting int/float powers for now\"\n",
        "    out = Variable(self.value**other, (self,), f'**{other}')\n",
        "\n",
        "    def _backward():\n",
        "        self.grad += other * (self.value ** (other - 1)) * out.grad\n",
        "    out._backward = _backward\n",
        "\n",
        "    return out\n",
        "\n",
        "  def tanh(self):\n",
        "    x = self.value\n",
        "    t = (math.exp(2*x) - 1)/(math.exp(2*x) + 1)\n",
        "    out = Variable(t, (self, ), 'tanh')\n",
        "\n",
        "    def _backward():\n",
        "      self.grad += (1 - t**2) * out.grad\n",
        "    out._backward = _backward\n",
        "\n",
        "    return out\n",
        "  \n",
        "  def backward(self):\n",
        "    topo = []\n",
        "    visited = set()\n",
        "    def build_topo(v):\n",
        "      if v not in visited:\n",
        "        visited.add(v)\n",
        "        for child in v.prev:\n",
        "          build_topo(child)\n",
        "        topo.append(v)\n",
        "    build_topo(self)\n",
        "    \n",
        "    self.grad = 1.0\n",
        "    for node in reversed(topo):\n",
        "      node._backward()\n",
        "\n",
        "  "
      ]
    },
    {
      "cell_type": "code",
      "execution_count": null,
      "metadata": {
        "id": "XKYjzfIejdTS"
      },
      "outputs": [],
      "source": [
        "#import pdb\n",
        "\n",
        "from graphviz import Digraph\n",
        "\n",
        "def trace(root):\n",
        "  # builds a set of all nodes and edges in a graph\n",
        "  nodes, edges = set(), set()\n",
        "  def build(v):\n",
        "    if v not in nodes:\n",
        "      nodes.add(v)\n",
        "      for child in v.prev:\n",
        "        edges.add((child, v))\n",
        "        build(child)\n",
        "  build(root)\n",
        "  return nodes, edges\n",
        "\n",
        "def draw_dot(root):\n",
        "  dot = Digraph(format='svg', graph_attr={'rankdir': 'LR'}) # LR = left to right\n",
        "  \n",
        "  nodes, edges = trace(root)\n",
        "  for n in nodes:\n",
        "    print(n.label)\n",
        "  for n in nodes:\n",
        "    #pdb.set_trace()\n",
        "    uid = str(id(n))\n",
        "    # for any value in the graph, create a rectangular ('record') node for it\n",
        "    dot.node(name = uid, label = \"{ %s | value %.4f | grad %.4f }\" % (n.label, n.value, n.grad), shape='record')\n",
        "    if n.operation:\n",
        "      # if this value is a result of some operation, create an op node for it\n",
        "      dot.node(name = uid + n.operation, label = n.operation)\n",
        "      # and connect this node to it\n",
        "      dot.edge(uid + n.operation, uid)\n",
        "\n",
        "  for n1, n2 in edges:\n",
        "    # connect n1 to the op node of n2\n",
        "    dot.edge(str(id(n1)), str(id(n2)) + n2.operation)\n",
        "\n",
        "  return dot"
      ]
    },
    {
      "cell_type": "code",
      "execution_count": null,
      "metadata": {
        "colab": {
          "base_uri": "https://localhost:8080/"
        },
        "id": "mqyD5-9aQBGF",
        "outputId": "a9a55658-d539-43cc-d6f7-792711e59797"
      },
      "outputs": [
        {
          "data": {
            "text/plain": [
              "Value(data = -8.0)"
            ]
          },
          "execution_count": 9,
          "metadata": {},
          "output_type": "execute_result"
        }
      ],
      "source": [
        "\n",
        "a = Variable(2.0, label='a')\n",
        "b = Variable(-3.0, label='b')\n",
        "c = Variable(10.0, label='c')\n",
        "e = a*b; e.label = 'e'\n",
        "d = e + c; d.label = 'd'\n",
        "f = Variable(-2.0, label='f')\n",
        "L = d * f; L.label = 'L'\n",
        "L\n"
      ]
    },
    {
      "cell_type": "code",
      "execution_count": null,
      "metadata": {
        "colab": {
          "base_uri": "https://localhost:8080/",
          "height": 314
        },
        "id": "t5amKrkMpXbC",
        "outputId": "5cf6049c-b5d8-4427-c3eb-8d6c8c2d6d4c"
      },
      "outputs": [
        {
          "name": "stdout",
          "output_type": "stream",
          "text": [
            "c\n",
            "a\n",
            "e\n",
            "d\n",
            "L\n",
            "f\n",
            "b\n"
          ]
        },
        {
          "data": {
            "image/svg+xml": "<?xml version=\"1.0\" encoding=\"UTF-8\" standalone=\"no\"?>\n<!DOCTYPE svg PUBLIC \"-//W3C//DTD SVG 1.1//EN\"\n \"http://www.w3.org/Graphics/SVG/1.1/DTD/svg11.dtd\">\n<!-- Generated by graphviz version 2.43.0 (0)\n -->\n<!-- Title: %3 Pages: 1 -->\n<svg width=\"1176pt\" height=\"128pt\"\n viewBox=\"0.00 0.00 1176.00 128.00\" xmlns=\"http://www.w3.org/2000/svg\" xmlns:xlink=\"http://www.w3.org/1999/xlink\">\n<g id=\"graph0\" class=\"graph\" transform=\"scale(1 1) rotate(0) translate(4 124)\">\n<title>%3</title>\n<polygon fill=\"white\" stroke=\"transparent\" points=\"-4,4 -4,-124 1172,-124 1172,4 -4,4\"/>\n<!-- 139856416662528 -->\n<g id=\"node1\" class=\"node\">\n<title>139856416662528</title>\n<polygon fill=\"none\" stroke=\"black\" points=\"323,-83.5 323,-119.5 522,-119.5 522,-83.5 323,-83.5\"/>\n<text text-anchor=\"middle\" x=\"334.5\" y=\"-97.8\" font-family=\"Times,serif\" font-size=\"14.00\">c</text>\n<polyline fill=\"none\" stroke=\"black\" points=\"346,-83.5 346,-119.5 \"/>\n<text text-anchor=\"middle\" x=\"393\" y=\"-97.8\" font-family=\"Times,serif\" font-size=\"14.00\">value 10.0000</text>\n<polyline fill=\"none\" stroke=\"black\" points=\"440,-83.5 440,-119.5 \"/>\n<text text-anchor=\"middle\" x=\"481\" y=\"-97.8\" font-family=\"Times,serif\" font-size=\"14.00\">grad 0.0000</text>\n</g>\n<!-- 139856416664880+ -->\n<g id=\"node6\" class=\"node\">\n<title>139856416664880+</title>\n<ellipse fill=\"none\" stroke=\"black\" cx=\"585\" cy=\"-73.5\" rx=\"27\" ry=\"18\"/>\n<text text-anchor=\"middle\" x=\"585\" y=\"-69.8\" font-family=\"Times,serif\" font-size=\"14.00\">+</text>\n</g>\n<!-- 139856416662528&#45;&gt;139856416664880+ -->\n<g id=\"edge8\" class=\"edge\">\n<title>139856416662528&#45;&gt;139856416664880+</title>\n<path fill=\"none\" stroke=\"black\" d=\"M522.41,-84.25C531.65,-82.63 540.54,-81.08 548.55,-79.68\"/>\n<polygon fill=\"black\" stroke=\"black\" points=\"549.29,-83.11 558.54,-77.94 548.08,-76.21 549.29,-83.11\"/>\n</g>\n<!-- 139856416664208 -->\n<g id=\"node2\" class=\"node\">\n<title>139856416664208</title>\n<polygon fill=\"none\" stroke=\"black\" points=\"2.5,-56.5 2.5,-92.5 194.5,-92.5 194.5,-56.5 2.5,-56.5\"/>\n<text text-anchor=\"middle\" x=\"14\" y=\"-70.8\" font-family=\"Times,serif\" font-size=\"14.00\">a</text>\n<polyline fill=\"none\" stroke=\"black\" points=\"25.5,-56.5 25.5,-92.5 \"/>\n<text text-anchor=\"middle\" x=\"69\" y=\"-70.8\" font-family=\"Times,serif\" font-size=\"14.00\">value 2.0000</text>\n<polyline fill=\"none\" stroke=\"black\" points=\"112.5,-56.5 112.5,-92.5 \"/>\n<text text-anchor=\"middle\" x=\"153.5\" y=\"-70.8\" font-family=\"Times,serif\" font-size=\"14.00\">grad 0.0000</text>\n</g>\n<!-- 139856416664304* -->\n<g id=\"node4\" class=\"node\">\n<title>139856416664304*</title>\n<ellipse fill=\"none\" stroke=\"black\" cx=\"260\" cy=\"-46.5\" rx=\"27\" ry=\"18\"/>\n<text text-anchor=\"middle\" x=\"260\" y=\"-42.8\" font-family=\"Times,serif\" font-size=\"14.00\">*</text>\n</g>\n<!-- 139856416664208&#45;&gt;139856416664304* -->\n<g id=\"edge6\" class=\"edge\">\n<title>139856416664208&#45;&gt;139856416664304*</title>\n<path fill=\"none\" stroke=\"black\" d=\"M194.58,-57.81C204.94,-55.99 214.94,-54.23 223.85,-52.67\"/>\n<polygon fill=\"black\" stroke=\"black\" points=\"224.51,-56.11 233.75,-50.93 223.3,-49.21 224.51,-56.11\"/>\n</g>\n<!-- 139856416664304 -->\n<g id=\"node3\" class=\"node\">\n<title>139856416664304</title>\n<polygon fill=\"none\" stroke=\"black\" points=\"324,-28.5 324,-64.5 521,-64.5 521,-28.5 324,-28.5\"/>\n<text text-anchor=\"middle\" x=\"335.5\" y=\"-42.8\" font-family=\"Times,serif\" font-size=\"14.00\">e</text>\n<polyline fill=\"none\" stroke=\"black\" points=\"347,-28.5 347,-64.5 \"/>\n<text text-anchor=\"middle\" x=\"393\" y=\"-42.8\" font-family=\"Times,serif\" font-size=\"14.00\">value &#45;6.0000</text>\n<polyline fill=\"none\" stroke=\"black\" points=\"439,-28.5 439,-64.5 \"/>\n<text text-anchor=\"middle\" x=\"480\" y=\"-42.8\" font-family=\"Times,serif\" font-size=\"14.00\">grad 0.0000</text>\n</g>\n<!-- 139856416664304&#45;&gt;139856416664880+ -->\n<g id=\"edge9\" class=\"edge\">\n<title>139856416664304&#45;&gt;139856416664880+</title>\n<path fill=\"none\" stroke=\"black\" d=\"M521.03,-62.91C530.72,-64.54 540.06,-66.11 548.44,-67.52\"/>\n<polygon fill=\"black\" stroke=\"black\" points=\"548.06,-71 558.51,-69.21 549.23,-64.1 548.06,-71\"/>\n</g>\n<!-- 139856416664304*&#45;&gt;139856416664304 -->\n<g id=\"edge1\" class=\"edge\">\n<title>139856416664304*&#45;&gt;139856416664304</title>\n<path fill=\"none\" stroke=\"black\" d=\"M287.14,-46.5C294.92,-46.5 303.97,-46.5 313.63,-46.5\"/>\n<polygon fill=\"black\" stroke=\"black\" points=\"313.89,-50 323.89,-46.5 313.89,-43 313.89,-50\"/>\n</g>\n<!-- 139856416664880 -->\n<g id=\"node5\" class=\"node\">\n<title>139856416664880</title>\n<polygon fill=\"none\" stroke=\"black\" points=\"649.5,-55.5 649.5,-91.5 841.5,-91.5 841.5,-55.5 649.5,-55.5\"/>\n<text text-anchor=\"middle\" x=\"661\" y=\"-69.8\" font-family=\"Times,serif\" font-size=\"14.00\">d</text>\n<polyline fill=\"none\" stroke=\"black\" points=\"672.5,-55.5 672.5,-91.5 \"/>\n<text text-anchor=\"middle\" x=\"716\" y=\"-69.8\" font-family=\"Times,serif\" font-size=\"14.00\">value 4.0000</text>\n<polyline fill=\"none\" stroke=\"black\" points=\"759.5,-55.5 759.5,-91.5 \"/>\n<text text-anchor=\"middle\" x=\"800.5\" y=\"-69.8\" font-family=\"Times,serif\" font-size=\"14.00\">grad 0.0000</text>\n</g>\n<!-- 139856440917344* -->\n<g id=\"node8\" class=\"node\">\n<title>139856440917344*</title>\n<ellipse fill=\"none\" stroke=\"black\" cx=\"906\" cy=\"-45.5\" rx=\"27\" ry=\"18\"/>\n<text text-anchor=\"middle\" x=\"906\" y=\"-41.8\" font-family=\"Times,serif\" font-size=\"14.00\">*</text>\n</g>\n<!-- 139856416664880&#45;&gt;139856440917344* -->\n<g id=\"edge7\" class=\"edge\">\n<title>139856416664880&#45;&gt;139856440917344*</title>\n<path fill=\"none\" stroke=\"black\" d=\"M841.9,-56.65C851.78,-54.9 861.31,-53.22 869.85,-51.71\"/>\n<polygon fill=\"black\" stroke=\"black\" points=\"870.47,-55.15 879.71,-49.97 869.26,-48.26 870.47,-55.15\"/>\n</g>\n<!-- 139856416664880+&#45;&gt;139856416664880 -->\n<g id=\"edge2\" class=\"edge\">\n<title>139856416664880+&#45;&gt;139856416664880</title>\n<path fill=\"none\" stroke=\"black\" d=\"M612.17,-73.5C620.15,-73.5 629.46,-73.5 639.38,-73.5\"/>\n<polygon fill=\"black\" stroke=\"black\" points=\"639.47,-77 649.47,-73.5 639.47,-70 639.47,-77\"/>\n</g>\n<!-- 139856440917344 -->\n<g id=\"node7\" class=\"node\">\n<title>139856440917344</title>\n<polygon fill=\"none\" stroke=\"black\" points=\"969,-27.5 969,-63.5 1168,-63.5 1168,-27.5 969,-27.5\"/>\n<text text-anchor=\"middle\" x=\"981.5\" y=\"-41.8\" font-family=\"Times,serif\" font-size=\"14.00\">L</text>\n<polyline fill=\"none\" stroke=\"black\" points=\"994,-27.5 994,-63.5 \"/>\n<text text-anchor=\"middle\" x=\"1040\" y=\"-41.8\" font-family=\"Times,serif\" font-size=\"14.00\">value &#45;8.0000</text>\n<polyline fill=\"none\" stroke=\"black\" points=\"1086,-27.5 1086,-63.5 \"/>\n<text text-anchor=\"middle\" x=\"1127\" y=\"-41.8\" font-family=\"Times,serif\" font-size=\"14.00\">grad 0.0000</text>\n</g>\n<!-- 139856440917344*&#45;&gt;139856440917344 -->\n<g id=\"edge3\" class=\"edge\">\n<title>139856440917344*&#45;&gt;139856440917344</title>\n<path fill=\"none\" stroke=\"black\" d=\"M933.14,-45.5C940.65,-45.5 949.33,-45.5 958.6,-45.5\"/>\n<polygon fill=\"black\" stroke=\"black\" points=\"958.86,-49 968.86,-45.5 958.86,-42 958.86,-49\"/>\n</g>\n<!-- 139856416665024 -->\n<g id=\"node9\" class=\"node\">\n<title>139856416665024</title>\n<polygon fill=\"none\" stroke=\"black\" points=\"648,-0.5 648,-36.5 843,-36.5 843,-0.5 648,-0.5\"/>\n<text text-anchor=\"middle\" x=\"658.5\" y=\"-14.8\" font-family=\"Times,serif\" font-size=\"14.00\">f</text>\n<polyline fill=\"none\" stroke=\"black\" points=\"669,-0.5 669,-36.5 \"/>\n<text text-anchor=\"middle\" x=\"715\" y=\"-14.8\" font-family=\"Times,serif\" font-size=\"14.00\">value &#45;2.0000</text>\n<polyline fill=\"none\" stroke=\"black\" points=\"761,-0.5 761,-36.5 \"/>\n<text text-anchor=\"middle\" x=\"802\" y=\"-14.8\" font-family=\"Times,serif\" font-size=\"14.00\">grad 0.0000</text>\n</g>\n<!-- 139856416665024&#45;&gt;139856440917344* -->\n<g id=\"edge5\" class=\"edge\">\n<title>139856416665024&#45;&gt;139856440917344*</title>\n<path fill=\"none\" stroke=\"black\" d=\"M843.27,-34.98C852.59,-36.57 861.57,-38.1 869.66,-39.48\"/>\n<polygon fill=\"black\" stroke=\"black\" points=\"869.29,-42.97 879.73,-41.2 870.46,-36.07 869.29,-42.97\"/>\n</g>\n<!-- 139856416664016 -->\n<g id=\"node10\" class=\"node\">\n<title>139856416664016</title>\n<polygon fill=\"none\" stroke=\"black\" points=\"0,-1.5 0,-37.5 197,-37.5 197,-1.5 0,-1.5\"/>\n<text text-anchor=\"middle\" x=\"11.5\" y=\"-15.8\" font-family=\"Times,serif\" font-size=\"14.00\">b</text>\n<polyline fill=\"none\" stroke=\"black\" points=\"23,-1.5 23,-37.5 \"/>\n<text text-anchor=\"middle\" x=\"69\" y=\"-15.8\" font-family=\"Times,serif\" font-size=\"14.00\">value &#45;3.0000</text>\n<polyline fill=\"none\" stroke=\"black\" points=\"115,-1.5 115,-37.5 \"/>\n<text text-anchor=\"middle\" x=\"156\" y=\"-15.8\" font-family=\"Times,serif\" font-size=\"14.00\">grad 0.0000</text>\n</g>\n<!-- 139856416664016&#45;&gt;139856416664304* -->\n<g id=\"edge4\" class=\"edge\">\n<title>139856416664016&#45;&gt;139856416664304*</title>\n<path fill=\"none\" stroke=\"black\" d=\"M197.33,-36.06C206.57,-37.62 215.46,-39.13 223.49,-40.49\"/>\n<polygon fill=\"black\" stroke=\"black\" points=\"223.04,-43.96 233.48,-42.18 224.21,-37.06 223.04,-43.96\"/>\n</g>\n</g>\n</svg>\n",
            "text/plain": [
              "<graphviz.dot.Digraph at 0x7f32dc08eeb0>"
            ]
          },
          "execution_count": 10,
          "metadata": {},
          "output_type": "execute_result"
        }
      ],
      "source": [
        "draw_dot(L)\n"
      ]
    },
    {
      "cell_type": "code",
      "execution_count": null,
      "metadata": {
        "id": "tNY7GRQMQ2Yc"
      },
      "outputs": [],
      "source": [
        "L.grad = 1\n",
        "a.grad = 6\n",
        "b.grad = -4\n",
        "c.grad = -2\n",
        "d.grad = -2\n",
        "e.grad = -2\n",
        "f.grad = 4"
      ]
    },
    {
      "cell_type": "code",
      "execution_count": null,
      "metadata": {
        "colab": {
          "base_uri": "https://localhost:8080/"
        },
        "id": "AgKdQXoBclC9",
        "outputId": "24a3eb13-d3d8-4f7b-d5f5-89ba0be6b46d"
      },
      "outputs": [
        {
          "name": "stdout",
          "output_type": "stream",
          "text": [
            "-7.286496\n"
          ]
        }
      ],
      "source": [
        "a.value = a.value + 0.01 * a.grad\n",
        "b.value += 0.01 * b.grad\n",
        "c.value += 0.01 * c.grad\n",
        "f.value += 0.01 * f.grad\n",
        "\n",
        "\n",
        "e = a * b\n",
        "d = e + c\n",
        "L = d * f\n",
        "\n",
        "print(L.value)"
      ]
    },
    {
      "cell_type": "code",
      "execution_count": null,
      "metadata": {
        "colab": {
          "base_uri": "https://localhost:8080/",
          "height": 314
        },
        "id": "vorpXdHzjd1U",
        "outputId": "0a105cfd-84a8-4693-9a78-0905f514137c"
      },
      "outputs": [
        {
          "name": "stdout",
          "output_type": "stream",
          "text": [
            "c\n",
            "a\n",
            "\n",
            "\n",
            "\n",
            "f\n",
            "b\n"
          ]
        },
        {
          "data": {
            "image/svg+xml": "<?xml version=\"1.0\" encoding=\"UTF-8\" standalone=\"no\"?>\n<!DOCTYPE svg PUBLIC \"-//W3C//DTD SVG 1.1//EN\"\n \"http://www.w3.org/Graphics/SVG/1.1/DTD/svg11.dtd\">\n<!-- Generated by graphviz version 2.43.0 (0)\n -->\n<!-- Title: %3 Pages: 1 -->\n<svg width=\"1172pt\" height=\"128pt\"\n viewBox=\"0.00 0.00 1172.00 128.00\" xmlns=\"http://www.w3.org/2000/svg\" xmlns:xlink=\"http://www.w3.org/1999/xlink\">\n<g id=\"graph0\" class=\"graph\" transform=\"scale(1 1) rotate(0) translate(4 124)\">\n<title>%3</title>\n<polygon fill=\"white\" stroke=\"transparent\" points=\"-4,4 -4,-124 1168,-124 1168,4 -4,4\"/>\n<!-- 139856416662528 -->\n<g id=\"node1\" class=\"node\">\n<title>139856416662528</title>\n<polygon fill=\"none\" stroke=\"black\" points=\"327,-83.5 327,-119.5 523,-119.5 523,-83.5 327,-83.5\"/>\n<text text-anchor=\"middle\" x=\"338.5\" y=\"-97.8\" font-family=\"Times,serif\" font-size=\"14.00\">c</text>\n<polyline fill=\"none\" stroke=\"black\" points=\"350,-83.5 350,-119.5 \"/>\n<text text-anchor=\"middle\" x=\"393.5\" y=\"-97.8\" font-family=\"Times,serif\" font-size=\"14.00\">value 9.9800</text>\n<polyline fill=\"none\" stroke=\"black\" points=\"437,-83.5 437,-119.5 \"/>\n<text text-anchor=\"middle\" x=\"480\" y=\"-97.8\" font-family=\"Times,serif\" font-size=\"14.00\">grad &#45;2.0000</text>\n</g>\n<!-- 139856416665312+ -->\n<g id=\"node6\" class=\"node\">\n<title>139856416665312+</title>\n<ellipse fill=\"none\" stroke=\"black\" cx=\"586\" cy=\"-73.5\" rx=\"27\" ry=\"18\"/>\n<text text-anchor=\"middle\" x=\"586\" y=\"-69.8\" font-family=\"Times,serif\" font-size=\"14.00\">+</text>\n</g>\n<!-- 139856416662528&#45;&gt;139856416665312+ -->\n<g id=\"edge6\" class=\"edge\">\n<title>139856416662528&#45;&gt;139856416665312+</title>\n<path fill=\"none\" stroke=\"black\" d=\"M523.07,-84.41C532.42,-82.76 541.43,-81.17 549.55,-79.74\"/>\n<polygon fill=\"black\" stroke=\"black\" points=\"550.41,-83.15 559.65,-77.96 549.2,-76.25 550.41,-83.15\"/>\n</g>\n<!-- 139856416664208 -->\n<g id=\"node2\" class=\"node\">\n<title>139856416664208</title>\n<polygon fill=\"none\" stroke=\"black\" points=\"4.5,-56.5 4.5,-92.5 196.5,-92.5 196.5,-56.5 4.5,-56.5\"/>\n<text text-anchor=\"middle\" x=\"16\" y=\"-70.8\" font-family=\"Times,serif\" font-size=\"14.00\">a</text>\n<polyline fill=\"none\" stroke=\"black\" points=\"27.5,-56.5 27.5,-92.5 \"/>\n<text text-anchor=\"middle\" x=\"71\" y=\"-70.8\" font-family=\"Times,serif\" font-size=\"14.00\">value 2.0600</text>\n<polyline fill=\"none\" stroke=\"black\" points=\"114.5,-56.5 114.5,-92.5 \"/>\n<text text-anchor=\"middle\" x=\"155.5\" y=\"-70.8\" font-family=\"Times,serif\" font-size=\"14.00\">grad 6.0000</text>\n</g>\n<!-- 139856416662240* -->\n<g id=\"node4\" class=\"node\">\n<title>139856416662240*</title>\n<ellipse fill=\"none\" stroke=\"black\" cx=\"264\" cy=\"-46.5\" rx=\"27\" ry=\"18\"/>\n<text text-anchor=\"middle\" x=\"264\" y=\"-42.8\" font-family=\"Times,serif\" font-size=\"14.00\">*</text>\n</g>\n<!-- 139856416664208&#45;&gt;139856416662240* -->\n<g id=\"edge7\" class=\"edge\">\n<title>139856416664208&#45;&gt;139856416662240*</title>\n<path fill=\"none\" stroke=\"black\" d=\"M196.85,-57.97C207.76,-56.08 218.31,-54.25 227.66,-52.63\"/>\n<polygon fill=\"black\" stroke=\"black\" points=\"228.4,-56.05 237.65,-50.89 227.2,-49.15 228.4,-56.05\"/>\n</g>\n<!-- 139856416662240 -->\n<g id=\"node3\" class=\"node\">\n<title>139856416662240</title>\n<polygon fill=\"none\" stroke=\"black\" points=\"328,-28.5 328,-64.5 522,-64.5 522,-28.5 328,-28.5\"/>\n<text text-anchor=\"middle\" x=\"338\" y=\"-42.8\" font-family=\"Times,serif\" font-size=\"14.00\"> </text>\n<polyline fill=\"none\" stroke=\"black\" points=\"348,-28.5 348,-64.5 \"/>\n<text text-anchor=\"middle\" x=\"394\" y=\"-42.8\" font-family=\"Times,serif\" font-size=\"14.00\">value &#45;6.2624</text>\n<polyline fill=\"none\" stroke=\"black\" points=\"440,-28.5 440,-64.5 \"/>\n<text text-anchor=\"middle\" x=\"481\" y=\"-42.8\" font-family=\"Times,serif\" font-size=\"14.00\">grad 0.0000</text>\n</g>\n<!-- 139856416662240&#45;&gt;139856416665312+ -->\n<g id=\"edge9\" class=\"edge\">\n<title>139856416662240&#45;&gt;139856416665312+</title>\n<path fill=\"none\" stroke=\"black\" d=\"M522.16,-62.83C531.82,-64.47 541.13,-66.05 549.49,-67.47\"/>\n<polygon fill=\"black\" stroke=\"black\" points=\"549.09,-70.95 559.54,-69.18 550.26,-64.05 549.09,-70.95\"/>\n</g>\n<!-- 139856416662240*&#45;&gt;139856416662240 -->\n<g id=\"edge1\" class=\"edge\">\n<title>139856416662240*&#45;&gt;139856416662240</title>\n<path fill=\"none\" stroke=\"black\" d=\"M291.26,-46.5C299.05,-46.5 308.1,-46.5 317.75,-46.5\"/>\n<polygon fill=\"black\" stroke=\"black\" points=\"317.99,-50 327.99,-46.5 317.99,-43 317.99,-50\"/>\n</g>\n<!-- 139856416665312 -->\n<g id=\"node5\" class=\"node\">\n<title>139856416665312</title>\n<polygon fill=\"none\" stroke=\"black\" points=\"652,-55.5 652,-91.5 841,-91.5 841,-55.5 652,-55.5\"/>\n<text text-anchor=\"middle\" x=\"662\" y=\"-69.8\" font-family=\"Times,serif\" font-size=\"14.00\"> </text>\n<polyline fill=\"none\" stroke=\"black\" points=\"672,-55.5 672,-91.5 \"/>\n<text text-anchor=\"middle\" x=\"715.5\" y=\"-69.8\" font-family=\"Times,serif\" font-size=\"14.00\">value 3.7176</text>\n<polyline fill=\"none\" stroke=\"black\" points=\"759,-55.5 759,-91.5 \"/>\n<text text-anchor=\"middle\" x=\"800\" y=\"-69.8\" font-family=\"Times,serif\" font-size=\"14.00\">grad 0.0000</text>\n</g>\n<!-- 139856416662768* -->\n<g id=\"node8\" class=\"node\">\n<title>139856416662768*</title>\n<ellipse fill=\"none\" stroke=\"black\" cx=\"907\" cy=\"-45.5\" rx=\"27\" ry=\"18\"/>\n<text text-anchor=\"middle\" x=\"907\" y=\"-41.8\" font-family=\"Times,serif\" font-size=\"14.00\">*</text>\n</g>\n<!-- 139856416665312&#45;&gt;139856416662768* -->\n<g id=\"edge4\" class=\"edge\">\n<title>139856416665312&#45;&gt;139856416662768*</title>\n<path fill=\"none\" stroke=\"black\" d=\"M841.07,-56.97C851.58,-55.11 861.73,-53.32 870.77,-51.72\"/>\n<polygon fill=\"black\" stroke=\"black\" points=\"871.58,-55.14 880.82,-49.95 870.36,-48.24 871.58,-55.14\"/>\n</g>\n<!-- 139856416665312+&#45;&gt;139856416665312 -->\n<g id=\"edge2\" class=\"edge\">\n<title>139856416665312+&#45;&gt;139856416665312</title>\n<path fill=\"none\" stroke=\"black\" d=\"M613.17,-73.5C621.5,-73.5 631.28,-73.5 641.68,-73.5\"/>\n<polygon fill=\"black\" stroke=\"black\" points=\"641.82,-77 651.82,-73.5 641.82,-70 641.82,-77\"/>\n</g>\n<!-- 139856416662768 -->\n<g id=\"node7\" class=\"node\">\n<title>139856416662768</title>\n<polygon fill=\"none\" stroke=\"black\" points=\"970,-27.5 970,-63.5 1164,-63.5 1164,-27.5 970,-27.5\"/>\n<text text-anchor=\"middle\" x=\"980\" y=\"-41.8\" font-family=\"Times,serif\" font-size=\"14.00\"> </text>\n<polyline fill=\"none\" stroke=\"black\" points=\"990,-27.5 990,-63.5 \"/>\n<text text-anchor=\"middle\" x=\"1036\" y=\"-41.8\" font-family=\"Times,serif\" font-size=\"14.00\">value &#45;7.2865</text>\n<polyline fill=\"none\" stroke=\"black\" points=\"1082,-27.5 1082,-63.5 \"/>\n<text text-anchor=\"middle\" x=\"1123\" y=\"-41.8\" font-family=\"Times,serif\" font-size=\"14.00\">grad 0.0000</text>\n</g>\n<!-- 139856416662768*&#45;&gt;139856416662768 -->\n<g id=\"edge3\" class=\"edge\">\n<title>139856416662768*&#45;&gt;139856416662768</title>\n<path fill=\"none\" stroke=\"black\" d=\"M934.09,-45.5C941.62,-45.5 950.34,-45.5 959.63,-45.5\"/>\n<polygon fill=\"black\" stroke=\"black\" points=\"959.92,-49 969.92,-45.5 959.92,-42 959.92,-49\"/>\n</g>\n<!-- 139856416665024 -->\n<g id=\"node9\" class=\"node\">\n<title>139856416665024</title>\n<polygon fill=\"none\" stroke=\"black\" points=\"649,-0.5 649,-36.5 844,-36.5 844,-0.5 649,-0.5\"/>\n<text text-anchor=\"middle\" x=\"659.5\" y=\"-14.8\" font-family=\"Times,serif\" font-size=\"14.00\">f</text>\n<polyline fill=\"none\" stroke=\"black\" points=\"670,-0.5 670,-36.5 \"/>\n<text text-anchor=\"middle\" x=\"716\" y=\"-14.8\" font-family=\"Times,serif\" font-size=\"14.00\">value &#45;1.9600</text>\n<polyline fill=\"none\" stroke=\"black\" points=\"762,-0.5 762,-36.5 \"/>\n<text text-anchor=\"middle\" x=\"803\" y=\"-14.8\" font-family=\"Times,serif\" font-size=\"14.00\">grad 4.0000</text>\n</g>\n<!-- 139856416665024&#45;&gt;139856416662768* -->\n<g id=\"edge5\" class=\"edge\">\n<title>139856416665024&#45;&gt;139856416662768*</title>\n<path fill=\"none\" stroke=\"black\" d=\"M844.27,-34.98C853.59,-36.57 862.57,-38.1 870.66,-39.48\"/>\n<polygon fill=\"black\" stroke=\"black\" points=\"870.29,-42.97 880.73,-41.2 871.46,-36.07 870.29,-42.97\"/>\n</g>\n<!-- 139856416664016 -->\n<g id=\"node10\" class=\"node\">\n<title>139856416664016</title>\n<polygon fill=\"none\" stroke=\"black\" points=\"0,-1.5 0,-37.5 201,-37.5 201,-1.5 0,-1.5\"/>\n<text text-anchor=\"middle\" x=\"11.5\" y=\"-15.8\" font-family=\"Times,serif\" font-size=\"14.00\">b</text>\n<polyline fill=\"none\" stroke=\"black\" points=\"23,-1.5 23,-37.5 \"/>\n<text text-anchor=\"middle\" x=\"69\" y=\"-15.8\" font-family=\"Times,serif\" font-size=\"14.00\">value &#45;3.0400</text>\n<polyline fill=\"none\" stroke=\"black\" points=\"115,-1.5 115,-37.5 \"/>\n<text text-anchor=\"middle\" x=\"158\" y=\"-15.8\" font-family=\"Times,serif\" font-size=\"14.00\">grad &#45;4.0000</text>\n</g>\n<!-- 139856416664016&#45;&gt;139856416662240* -->\n<g id=\"edge8\" class=\"edge\">\n<title>139856416664016&#45;&gt;139856416662240*</title>\n<path fill=\"none\" stroke=\"black\" d=\"M201.02,-36.14C210.41,-37.71 219.44,-39.22 227.56,-40.58\"/>\n<polygon fill=\"black\" stroke=\"black\" points=\"227.24,-44.07 237.68,-42.27 228.39,-37.17 227.24,-44.07\"/>\n</g>\n</g>\n</svg>\n",
            "text/plain": [
              "<graphviz.dot.Digraph at 0x7f32dc08e310>"
            ]
          },
          "execution_count": 13,
          "metadata": {},
          "output_type": "execute_result"
        }
      ],
      "source": [
        "draw_dot(L)"
      ]
    },
    {
      "cell_type": "code",
      "execution_count": null,
      "metadata": {
        "colab": {
          "base_uri": "https://localhost:8080/"
        },
        "id": "8GIaewPyzyv3",
        "outputId": "fc687ebe-dbe7-4587-93d1-1406e0db8df1"
      },
      "outputs": [
        {
          "name": "stdout",
          "output_type": "stream",
          "text": [
            "3.9999999999995595\n"
          ]
        }
      ],
      "source": [
        "\n",
        "def lol():\n",
        "  \n",
        "  h = 0.001\n",
        "  \n",
        "  a = Variable(2.0 , label='a')\n",
        "  b = Variable(-3.0 , label='b')\n",
        "  c = Variable(10.0, label='c')\n",
        "  e = a*b; e.label = 'e'\n",
        "  d = e + c; d.label = 'd'\n",
        "  f = Variable(-2.0, label='f')\n",
        "  L = d * f; L.label = 'L'\n",
        "  L1 = L.value\n",
        "  \n",
        "  a = Variable(2.0  , label='a')\n",
        "  b = Variable(-3.0 , label='b')\n",
        "  c = Variable(10.0 , label='c')\n",
        "  e = a*b; e.label = 'e'\n",
        "  d = e + c; d.label = 'd'\n",
        "  f = Variable(-2.0, label='f')\n",
        "  f.value += h\n",
        "  L = d * f; L.label = 'L'\n",
        "  L2 = L.value\n",
        "  \n",
        "  print((L2 - L1)/h)\n",
        "  \n",
        "lol()\n"
      ]
    },
    {
      "cell_type": "code",
      "execution_count": null,
      "metadata": {
        "id": "CIjy2clQnF1_"
      },
      "outputs": [],
      "source": [
        "# inputs x1,x2\n",
        "x1 = Variable(2.0, label='x1')\n",
        "x2 = Variable(0.0, label='x2')\n",
        "# weights w1,w2\n",
        "w1 = Variable(-3.0, label='w1')\n",
        "w2 = Variable(1.0, label='w2')\n",
        "# bias of the neuron\n",
        "b = Variable(6.8813735870195432, label='b')\n",
        "# x1*w1 + x2*w2 + b\n",
        "x1w1 = x1*w1; x1w1.label = 'x1*w1'\n",
        "x2w2 = x2*w2; x2w2.label = 'x2*w2'\n",
        "x1w1x2w2 = x1w1 + x2w2; x1w1x2w2.label = 'x1*w1 + x2*w2'\n",
        "n = x1w1x2w2 + b; n.label = 'n'\n",
        "o = n.tanh(); o.label = 'o'\n"
      ]
    },
    {
      "cell_type": "code",
      "execution_count": null,
      "metadata": {
        "id": "l3AZlIWFY1zm"
      },
      "outputs": [],
      "source": [
        "o.backward()"
      ]
    },
    {
      "cell_type": "code",
      "execution_count": null,
      "metadata": {
        "colab": {
          "base_uri": "https://localhost:8080/",
          "height": 495
        },
        "id": "2ixCDEEhHUky",
        "outputId": "306bf0b0-d8e7-4e8e-97a5-59966c43515a"
      },
      "outputs": [
        {
          "name": "stdout",
          "output_type": "stream",
          "text": [
            "x1\n",
            "x1*w1 + x2*w2\n",
            "b\n",
            "w1\n",
            "x2\n",
            "o\n",
            "x1*w1\n",
            "w2\n",
            "x2*w2\n",
            "n\n"
          ]
        },
        {
          "data": {
            "image/svg+xml": "<?xml version=\"1.0\" encoding=\"UTF-8\" standalone=\"no\"?>\n<!DOCTYPE svg PUBLIC \"-//W3C//DTD SVG 1.1//EN\"\n \"http://www.w3.org/Graphics/SVG/1.1/DTD/svg11.dtd\">\n<!-- Generated by graphviz version 2.43.0 (0)\n -->\n<!-- Title: %3 Pages: 1 -->\n<svg width=\"1610pt\" height=\"210pt\"\n viewBox=\"0.00 0.00 1610.00 210.00\" xmlns=\"http://www.w3.org/2000/svg\" xmlns:xlink=\"http://www.w3.org/1999/xlink\">\n<g id=\"graph0\" class=\"graph\" transform=\"scale(1 1) rotate(0) translate(4 206)\">\n<title>%3</title>\n<polygon fill=\"white\" stroke=\"transparent\" points=\"-4,4 -4,-206 1606,-206 1606,4 -4,4\"/>\n<!-- 139856440922704 -->\n<g id=\"node1\" class=\"node\">\n<title>139856440922704</title>\n<polygon fill=\"none\" stroke=\"black\" points=\"2,-165.5 2,-201.5 205,-201.5 205,-165.5 2,-165.5\"/>\n<text text-anchor=\"middle\" x=\"17\" y=\"-179.8\" font-family=\"Times,serif\" font-size=\"14.00\">x1</text>\n<polyline fill=\"none\" stroke=\"black\" points=\"32,-165.5 32,-201.5 \"/>\n<text text-anchor=\"middle\" x=\"75.5\" y=\"-179.8\" font-family=\"Times,serif\" font-size=\"14.00\">value 2.0000</text>\n<polyline fill=\"none\" stroke=\"black\" points=\"119,-165.5 119,-201.5 \"/>\n<text text-anchor=\"middle\" x=\"162\" y=\"-179.8\" font-family=\"Times,serif\" font-size=\"14.00\">grad &#45;1.5000</text>\n</g>\n<!-- 139856416632640* -->\n<g id=\"node10\" class=\"node\">\n<title>139856416632640*</title>\n<ellipse fill=\"none\" stroke=\"black\" cx=\"270\" cy=\"-128.5\" rx=\"27\" ry=\"18\"/>\n<text text-anchor=\"middle\" x=\"270\" y=\"-124.8\" font-family=\"Times,serif\" font-size=\"14.00\">*</text>\n</g>\n<!-- 139856440922704&#45;&gt;139856416632640* -->\n<g id=\"edge9\" class=\"edge\">\n<title>139856440922704&#45;&gt;139856416632640*</title>\n<path fill=\"none\" stroke=\"black\" d=\"M178.85,-165.48C188.4,-162.71 197.98,-159.7 207,-156.5 217.54,-152.76 228.77,-147.95 238.74,-143.38\"/>\n<polygon fill=\"black\" stroke=\"black\" points=\"240.27,-146.53 247.84,-139.11 237.3,-140.19 240.27,-146.53\"/>\n</g>\n<!-- 139856555084960 -->\n<g id=\"node2\" class=\"node\">\n<title>139856555084960</title>\n<polygon fill=\"none\" stroke=\"black\" points=\"686,-82.5 686,-118.5 966,-118.5 966,-82.5 686,-82.5\"/>\n<text text-anchor=\"middle\" x=\"739\" y=\"-96.8\" font-family=\"Times,serif\" font-size=\"14.00\">x1*w1 + x2*w2</text>\n<polyline fill=\"none\" stroke=\"black\" points=\"792,-82.5 792,-118.5 \"/>\n<text text-anchor=\"middle\" x=\"838\" y=\"-96.8\" font-family=\"Times,serif\" font-size=\"14.00\">value &#45;6.0000</text>\n<polyline fill=\"none\" stroke=\"black\" points=\"884,-82.5 884,-118.5 \"/>\n<text text-anchor=\"middle\" x=\"925\" y=\"-96.8\" font-family=\"Times,serif\" font-size=\"14.00\">grad 0.5000</text>\n</g>\n<!-- 139856555187168+ -->\n<g id=\"node15\" class=\"node\">\n<title>139856555187168+</title>\n<ellipse fill=\"none\" stroke=\"black\" cx=\"1029\" cy=\"-72.5\" rx=\"27\" ry=\"18\"/>\n<text text-anchor=\"middle\" x=\"1029\" y=\"-68.8\" font-family=\"Times,serif\" font-size=\"14.00\">+</text>\n</g>\n<!-- 139856555084960&#45;&gt;139856555187168+ -->\n<g id=\"edge13\" class=\"edge\">\n<title>139856555084960&#45;&gt;139856555187168+</title>\n<path fill=\"none\" stroke=\"black\" d=\"M956.29,-82.49C969.32,-80.67 981.64,-78.96 992.28,-77.48\"/>\n<polygon fill=\"black\" stroke=\"black\" points=\"992.9,-80.92 1002.32,-76.08 991.93,-73.99 992.9,-80.92\"/>\n</g>\n<!-- 139856555084960+ -->\n<g id=\"node3\" class=\"node\">\n<title>139856555084960+</title>\n<ellipse fill=\"none\" stroke=\"black\" cx=\"623\" cy=\"-100.5\" rx=\"27\" ry=\"18\"/>\n<text text-anchor=\"middle\" x=\"623\" y=\"-96.8\" font-family=\"Times,serif\" font-size=\"14.00\">+</text>\n</g>\n<!-- 139856555084960+&#45;&gt;139856555084960 -->\n<g id=\"edge1\" class=\"edge\">\n<title>139856555084960+&#45;&gt;139856555084960</title>\n<path fill=\"none\" stroke=\"black\" d=\"M650.28,-100.5C657.7,-100.5 666.35,-100.5 675.74,-100.5\"/>\n<polygon fill=\"black\" stroke=\"black\" points=\"675.78,-104 685.78,-100.5 675.78,-97 675.78,-104\"/>\n</g>\n<!-- 139856440922320 -->\n<g id=\"node4\" class=\"node\">\n<title>139856440922320</title>\n<polygon fill=\"none\" stroke=\"black\" points=\"730,-27.5 730,-63.5 922,-63.5 922,-27.5 730,-27.5\"/>\n<text text-anchor=\"middle\" x=\"741.5\" y=\"-41.8\" font-family=\"Times,serif\" font-size=\"14.00\">b</text>\n<polyline fill=\"none\" stroke=\"black\" points=\"753,-27.5 753,-63.5 \"/>\n<text text-anchor=\"middle\" x=\"796.5\" y=\"-41.8\" font-family=\"Times,serif\" font-size=\"14.00\">value 6.8814</text>\n<polyline fill=\"none\" stroke=\"black\" points=\"840,-27.5 840,-63.5 \"/>\n<text text-anchor=\"middle\" x=\"881\" y=\"-41.8\" font-family=\"Times,serif\" font-size=\"14.00\">grad 0.5000</text>\n</g>\n<!-- 139856440922320&#45;&gt;139856555187168+ -->\n<g id=\"edge11\" class=\"edge\">\n<title>139856440922320&#45;&gt;139856555187168+</title>\n<path fill=\"none\" stroke=\"black\" d=\"M922.2,-58.29C947.15,-61.64 972.53,-65.05 992.17,-67.69\"/>\n<polygon fill=\"black\" stroke=\"black\" points=\"991.8,-71.17 1002.17,-69.03 992.73,-64.23 991.8,-71.17\"/>\n</g>\n<!-- 139856440923424 -->\n<g id=\"node5\" class=\"node\">\n<title>139856440923424</title>\n<polygon fill=\"none\" stroke=\"black\" points=\"0,-110.5 0,-146.5 207,-146.5 207,-110.5 0,-110.5\"/>\n<text text-anchor=\"middle\" x=\"16.5\" y=\"-124.8\" font-family=\"Times,serif\" font-size=\"14.00\">w1</text>\n<polyline fill=\"none\" stroke=\"black\" points=\"33,-110.5 33,-146.5 \"/>\n<text text-anchor=\"middle\" x=\"79\" y=\"-124.8\" font-family=\"Times,serif\" font-size=\"14.00\">value &#45;3.0000</text>\n<polyline fill=\"none\" stroke=\"black\" points=\"125,-110.5 125,-146.5 \"/>\n<text text-anchor=\"middle\" x=\"166\" y=\"-124.8\" font-family=\"Times,serif\" font-size=\"14.00\">grad 1.0000</text>\n</g>\n<!-- 139856440923424&#45;&gt;139856416632640* -->\n<g id=\"edge10\" class=\"edge\">\n<title>139856440923424&#45;&gt;139856416632640*</title>\n<path fill=\"none\" stroke=\"black\" d=\"M207.28,-128.5C216.3,-128.5 224.96,-128.5 232.81,-128.5\"/>\n<polygon fill=\"black\" stroke=\"black\" points=\"232.95,-132 242.95,-128.5 232.95,-125 232.95,-132\"/>\n</g>\n<!-- 139856440922416 -->\n<g id=\"node6\" class=\"node\">\n<title>139856440922416</title>\n<polygon fill=\"none\" stroke=\"black\" points=\"4,-55.5 4,-91.5 203,-91.5 203,-55.5 4,-55.5\"/>\n<text text-anchor=\"middle\" x=\"19\" y=\"-69.8\" font-family=\"Times,serif\" font-size=\"14.00\">x2</text>\n<polyline fill=\"none\" stroke=\"black\" points=\"34,-55.5 34,-91.5 \"/>\n<text text-anchor=\"middle\" x=\"77.5\" y=\"-69.8\" font-family=\"Times,serif\" font-size=\"14.00\">value 0.0000</text>\n<polyline fill=\"none\" stroke=\"black\" points=\"121,-55.5 121,-91.5 \"/>\n<text text-anchor=\"middle\" x=\"162\" y=\"-69.8\" font-family=\"Times,serif\" font-size=\"14.00\">grad 0.5000</text>\n</g>\n<!-- 139856416632256* -->\n<g id=\"node13\" class=\"node\">\n<title>139856416632256*</title>\n<ellipse fill=\"none\" stroke=\"black\" cx=\"270\" cy=\"-73.5\" rx=\"27\" ry=\"18\"/>\n<text text-anchor=\"middle\" x=\"270\" y=\"-69.8\" font-family=\"Times,serif\" font-size=\"14.00\">*</text>\n</g>\n<!-- 139856440922416&#45;&gt;139856416632256* -->\n<g id=\"edge7\" class=\"edge\">\n<title>139856440922416&#45;&gt;139856416632256*</title>\n<path fill=\"none\" stroke=\"black\" d=\"M203.04,-73.5C213.56,-73.5 223.72,-73.5 232.77,-73.5\"/>\n<polygon fill=\"black\" stroke=\"black\" points=\"232.86,-77 242.86,-73.5 232.86,-70 232.86,-77\"/>\n</g>\n<!-- 139856555185968 -->\n<g id=\"node7\" class=\"node\">\n<title>139856555185968</title>\n<polygon fill=\"none\" stroke=\"black\" points=\"1410,-54.5 1410,-90.5 1602,-90.5 1602,-54.5 1410,-54.5\"/>\n<text text-anchor=\"middle\" x=\"1421.5\" y=\"-68.8\" font-family=\"Times,serif\" font-size=\"14.00\">o</text>\n<polyline fill=\"none\" stroke=\"black\" points=\"1433,-54.5 1433,-90.5 \"/>\n<text text-anchor=\"middle\" x=\"1476.5\" y=\"-68.8\" font-family=\"Times,serif\" font-size=\"14.00\">value 0.7071</text>\n<polyline fill=\"none\" stroke=\"black\" points=\"1520,-54.5 1520,-90.5 \"/>\n<text text-anchor=\"middle\" x=\"1561\" y=\"-68.8\" font-family=\"Times,serif\" font-size=\"14.00\">grad 1.0000</text>\n</g>\n<!-- 139856555185968tanh -->\n<g id=\"node8\" class=\"node\">\n<title>139856555185968tanh</title>\n<ellipse fill=\"none\" stroke=\"black\" cx=\"1347\" cy=\"-72.5\" rx=\"27\" ry=\"18\"/>\n<text text-anchor=\"middle\" x=\"1347\" y=\"-68.8\" font-family=\"Times,serif\" font-size=\"14.00\">tanh</text>\n</g>\n<!-- 139856555185968tanh&#45;&gt;139856555185968 -->\n<g id=\"edge2\" class=\"edge\">\n<title>139856555185968tanh&#45;&gt;139856555185968</title>\n<path fill=\"none\" stroke=\"black\" d=\"M1374.28,-72.5C1381.78,-72.5 1390.44,-72.5 1399.67,-72.5\"/>\n<polygon fill=\"black\" stroke=\"black\" points=\"1399.87,-76 1409.87,-72.5 1399.87,-69 1399.87,-76\"/>\n</g>\n<!-- 139856416632640 -->\n<g id=\"node9\" class=\"node\">\n<title>139856416632640</title>\n<polygon fill=\"none\" stroke=\"black\" points=\"333,-110.5 333,-146.5 560,-146.5 560,-110.5 333,-110.5\"/>\n<text text-anchor=\"middle\" x=\"359.5\" y=\"-124.8\" font-family=\"Times,serif\" font-size=\"14.00\">x1*w1</text>\n<polyline fill=\"none\" stroke=\"black\" points=\"386,-110.5 386,-146.5 \"/>\n<text text-anchor=\"middle\" x=\"432\" y=\"-124.8\" font-family=\"Times,serif\" font-size=\"14.00\">value &#45;6.0000</text>\n<polyline fill=\"none\" stroke=\"black\" points=\"478,-110.5 478,-146.5 \"/>\n<text text-anchor=\"middle\" x=\"519\" y=\"-124.8\" font-family=\"Times,serif\" font-size=\"14.00\">grad 0.5000</text>\n</g>\n<!-- 139856416632640&#45;&gt;139856555084960+ -->\n<g id=\"edge6\" class=\"edge\">\n<title>139856416632640&#45;&gt;139856555084960+</title>\n<path fill=\"none\" stroke=\"black\" d=\"M559.99,-110.45C569.43,-108.93 578.45,-107.49 586.53,-106.19\"/>\n<polygon fill=\"black\" stroke=\"black\" points=\"587.26,-109.62 596.58,-104.58 586.15,-102.71 587.26,-109.62\"/>\n</g>\n<!-- 139856416632640*&#45;&gt;139856416632640 -->\n<g id=\"edge3\" class=\"edge\">\n<title>139856416632640*&#45;&gt;139856416632640</title>\n<path fill=\"none\" stroke=\"black\" d=\"M297.12,-128.5C304.67,-128.5 313.45,-128.5 322.9,-128.5\"/>\n<polygon fill=\"black\" stroke=\"black\" points=\"322.95,-132 332.95,-128.5 322.95,-125 322.95,-132\"/>\n</g>\n<!-- 139856440924528 -->\n<g id=\"node11\" class=\"node\">\n<title>139856440924528</title>\n<polygon fill=\"none\" stroke=\"black\" points=\"2.5,-0.5 2.5,-36.5 204.5,-36.5 204.5,-0.5 2.5,-0.5\"/>\n<text text-anchor=\"middle\" x=\"19\" y=\"-14.8\" font-family=\"Times,serif\" font-size=\"14.00\">w2</text>\n<polyline fill=\"none\" stroke=\"black\" points=\"35.5,-0.5 35.5,-36.5 \"/>\n<text text-anchor=\"middle\" x=\"79\" y=\"-14.8\" font-family=\"Times,serif\" font-size=\"14.00\">value 1.0000</text>\n<polyline fill=\"none\" stroke=\"black\" points=\"122.5,-0.5 122.5,-36.5 \"/>\n<text text-anchor=\"middle\" x=\"163.5\" y=\"-14.8\" font-family=\"Times,serif\" font-size=\"14.00\">grad 0.0000</text>\n</g>\n<!-- 139856440924528&#45;&gt;139856416632256* -->\n<g id=\"edge14\" class=\"edge\">\n<title>139856440924528&#45;&gt;139856416632256*</title>\n<path fill=\"none\" stroke=\"black\" d=\"M175.76,-36.54C186.31,-39.62 197,-42.98 207,-46.5 217.3,-50.13 228.3,-54.68 238.13,-59.01\"/>\n<polygon fill=\"black\" stroke=\"black\" points=\"236.94,-62.32 247.5,-63.23 239.81,-55.93 236.94,-62.32\"/>\n</g>\n<!-- 139856416632256 -->\n<g id=\"node12\" class=\"node\">\n<title>139856416632256</title>\n<polygon fill=\"none\" stroke=\"black\" points=\"335.5,-55.5 335.5,-91.5 557.5,-91.5 557.5,-55.5 335.5,-55.5\"/>\n<text text-anchor=\"middle\" x=\"362\" y=\"-69.8\" font-family=\"Times,serif\" font-size=\"14.00\">x2*w2</text>\n<polyline fill=\"none\" stroke=\"black\" points=\"388.5,-55.5 388.5,-91.5 \"/>\n<text text-anchor=\"middle\" x=\"432\" y=\"-69.8\" font-family=\"Times,serif\" font-size=\"14.00\">value 0.0000</text>\n<polyline fill=\"none\" stroke=\"black\" points=\"475.5,-55.5 475.5,-91.5 \"/>\n<text text-anchor=\"middle\" x=\"516.5\" y=\"-69.8\" font-family=\"Times,serif\" font-size=\"14.00\">grad 0.5000</text>\n</g>\n<!-- 139856416632256&#45;&gt;139856555084960+ -->\n<g id=\"edge12\" class=\"edge\">\n<title>139856416632256&#45;&gt;139856555084960+</title>\n<path fill=\"none\" stroke=\"black\" d=\"M557.52,-90.52C567.78,-92.11 577.58,-93.63 586.31,-94.98\"/>\n<polygon fill=\"black\" stroke=\"black\" points=\"585.97,-98.47 596.39,-96.54 587.04,-91.55 585.97,-98.47\"/>\n</g>\n<!-- 139856416632256*&#45;&gt;139856416632256 -->\n<g id=\"edge4\" class=\"edge\">\n<title>139856416632256*&#45;&gt;139856416632256</title>\n<path fill=\"none\" stroke=\"black\" d=\"M297.12,-73.5C305.27,-73.5 314.83,-73.5 325.13,-73.5\"/>\n<polygon fill=\"black\" stroke=\"black\" points=\"325.19,-77 335.19,-73.5 325.19,-70 325.19,-77\"/>\n</g>\n<!-- 139856555187168 -->\n<g id=\"node14\" class=\"node\">\n<title>139856555187168</title>\n<polygon fill=\"none\" stroke=\"black\" points=\"1092,-54.5 1092,-90.5 1284,-90.5 1284,-54.5 1092,-54.5\"/>\n<text text-anchor=\"middle\" x=\"1103.5\" y=\"-68.8\" font-family=\"Times,serif\" font-size=\"14.00\">n</text>\n<polyline fill=\"none\" stroke=\"black\" points=\"1115,-54.5 1115,-90.5 \"/>\n<text text-anchor=\"middle\" x=\"1158.5\" y=\"-68.8\" font-family=\"Times,serif\" font-size=\"14.00\">value 0.8814</text>\n<polyline fill=\"none\" stroke=\"black\" points=\"1202,-54.5 1202,-90.5 \"/>\n<text text-anchor=\"middle\" x=\"1243\" y=\"-68.8\" font-family=\"Times,serif\" font-size=\"14.00\">grad 0.5000</text>\n</g>\n<!-- 139856555187168&#45;&gt;139856555185968tanh -->\n<g id=\"edge8\" class=\"edge\">\n<title>139856555187168&#45;&gt;139856555185968tanh</title>\n<path fill=\"none\" stroke=\"black\" d=\"M1284.4,-72.5C1293.32,-72.5 1301.93,-72.5 1309.75,-72.5\"/>\n<polygon fill=\"black\" stroke=\"black\" points=\"1309.86,-76 1319.86,-72.5 1309.86,-69 1309.86,-76\"/>\n</g>\n<!-- 139856555187168+&#45;&gt;139856555187168 -->\n<g id=\"edge5\" class=\"edge\">\n<title>139856555187168+&#45;&gt;139856555187168</title>\n<path fill=\"none\" stroke=\"black\" d=\"M1056.28,-72.5C1063.78,-72.5 1072.44,-72.5 1081.67,-72.5\"/>\n<polygon fill=\"black\" stroke=\"black\" points=\"1081.87,-76 1091.87,-72.5 1081.87,-69 1081.87,-76\"/>\n</g>\n</g>\n</svg>\n",
            "text/plain": [
              "<graphviz.dot.Digraph at 0x7f32dc07e310>"
            ]
          },
          "execution_count": 17,
          "metadata": {},
          "output_type": "execute_result"
        }
      ],
      "source": [
        "draw_dot(o)"
      ]
    },
    {
      "cell_type": "code",
      "execution_count": null,
      "metadata": {
        "colab": {
          "base_uri": "https://localhost:8080/",
          "height": 116
        },
        "id": "_93FTPrvrz6E",
        "outputId": "445fe1fb-2b4f-4b01-f2e3-a29fb1d1008b"
      },
      "outputs": [
        {
          "name": "stdout",
          "output_type": "stream",
          "text": [
            "b\n",
            "a\n"
          ]
        },
        {
          "data": {
            "image/svg+xml": "<?xml version=\"1.0\" encoding=\"UTF-8\" standalone=\"no\"?>\n<!DOCTYPE svg PUBLIC \"-//W3C//DTD SVG 1.1//EN\"\n \"http://www.w3.org/Graphics/SVG/1.1/DTD/svg11.dtd\">\n<!-- Generated by graphviz version 2.43.0 (0)\n -->\n<!-- Title: %3 Pages: 1 -->\n<svg width=\"518pt\" height=\"45pt\"\n viewBox=\"0.00 0.00 518.00 45.00\" xmlns=\"http://www.w3.org/2000/svg\" xmlns:xlink=\"http://www.w3.org/1999/xlink\">\n<g id=\"graph0\" class=\"graph\" transform=\"scale(1 1) rotate(0) translate(4 41)\">\n<title>%3</title>\n<polygon fill=\"white\" stroke=\"transparent\" points=\"-4,4 -4,-41 514,-41 514,4 -4,4\"/>\n<!-- 139856416629136 -->\n<g id=\"node1\" class=\"node\">\n<title>139856416629136</title>\n<polygon fill=\"none\" stroke=\"black\" points=\"318,-0.5 318,-36.5 510,-36.5 510,-0.5 318,-0.5\"/>\n<text text-anchor=\"middle\" x=\"329.5\" y=\"-14.8\" font-family=\"Times,serif\" font-size=\"14.00\">b</text>\n<polyline fill=\"none\" stroke=\"black\" points=\"341,-0.5 341,-36.5 \"/>\n<text text-anchor=\"middle\" x=\"384.5\" y=\"-14.8\" font-family=\"Times,serif\" font-size=\"14.00\">value 6.0000</text>\n<polyline fill=\"none\" stroke=\"black\" points=\"428,-0.5 428,-36.5 \"/>\n<text text-anchor=\"middle\" x=\"469\" y=\"-14.8\" font-family=\"Times,serif\" font-size=\"14.00\">grad 1.0000</text>\n</g>\n<!-- 139856416629136+ -->\n<g id=\"node2\" class=\"node\">\n<title>139856416629136+</title>\n<ellipse fill=\"none\" stroke=\"black\" cx=\"255\" cy=\"-18.5\" rx=\"27\" ry=\"18\"/>\n<text text-anchor=\"middle\" x=\"255\" y=\"-14.8\" font-family=\"Times,serif\" font-size=\"14.00\">+</text>\n</g>\n<!-- 139856416629136+&#45;&gt;139856416629136 -->\n<g id=\"edge1\" class=\"edge\">\n<title>139856416629136+&#45;&gt;139856416629136</title>\n<path fill=\"none\" stroke=\"black\" d=\"M282.28,-18.5C289.78,-18.5 298.44,-18.5 307.67,-18.5\"/>\n<polygon fill=\"black\" stroke=\"black\" points=\"307.87,-22 317.87,-18.5 307.87,-15 307.87,-22\"/>\n</g>\n<!-- 139856555085008 -->\n<g id=\"node3\" class=\"node\">\n<title>139856555085008</title>\n<polygon fill=\"none\" stroke=\"black\" points=\"0,-0.5 0,-36.5 192,-36.5 192,-0.5 0,-0.5\"/>\n<text text-anchor=\"middle\" x=\"11.5\" y=\"-14.8\" font-family=\"Times,serif\" font-size=\"14.00\">a</text>\n<polyline fill=\"none\" stroke=\"black\" points=\"23,-0.5 23,-36.5 \"/>\n<text text-anchor=\"middle\" x=\"66.5\" y=\"-14.8\" font-family=\"Times,serif\" font-size=\"14.00\">value 3.0000</text>\n<polyline fill=\"none\" stroke=\"black\" points=\"110,-0.5 110,-36.5 \"/>\n<text text-anchor=\"middle\" x=\"151\" y=\"-14.8\" font-family=\"Times,serif\" font-size=\"14.00\">grad 2.0000</text>\n</g>\n<!-- 139856555085008&#45;&gt;139856416629136+ -->\n<g id=\"edge2\" class=\"edge\">\n<title>139856555085008&#45;&gt;139856416629136+</title>\n<path fill=\"none\" stroke=\"black\" d=\"M192.4,-18.5C201.32,-18.5 209.93,-18.5 217.75,-18.5\"/>\n<polygon fill=\"black\" stroke=\"black\" points=\"217.86,-22 227.86,-18.5 217.86,-15 217.86,-22\"/>\n</g>\n</g>\n</svg>\n",
            "text/plain": [
              "<graphviz.dot.Digraph at 0x7f32e4490c10>"
            ]
          },
          "execution_count": 18,
          "metadata": {},
          "output_type": "execute_result"
        }
      ],
      "source": [
        "a = Variable(3.0, label='a')\n",
        "b = a + a   ; b.label = 'b'\n",
        "b.backward()\n",
        "draw_dot(b)"
      ]
    },
    {
      "cell_type": "code",
      "execution_count": null,
      "metadata": {
        "id": "SK5phDuD2rg-"
      },
      "outputs": [],
      "source": [
        "import random\n",
        "\n",
        "class Neuron:\n",
        "  \n",
        "  def __init__(self, connections):\n",
        "    self.w = [Variable(random.uniform(-1,1)) for iter in range(connections)]\n",
        "    self.b = Variable(random.uniform(-1,1))\n",
        "  \n",
        "  def __call__(self, x):\n",
        "    # w * x + b\n",
        "    act = sum((wi*xi for wi, xi in zip(self.w, x)), self.b)\n",
        "    squished_act = act.tanh()\n",
        "    return squished_act\n",
        "  \n",
        "  def parameters(self):\n",
        "    return self.w + [self.b]\n",
        "\n",
        "class Layer:\n",
        "  \n",
        "  def __init__(self, connections, num_neurons):\n",
        "    self.neurons = [Neuron(connections) for iter in range(num_neurons)]\n",
        "  \n",
        "  def __call__(self, x):\n",
        "    outs = [n(x) for n in self.neurons]\n",
        "    return outs[0] if len(outs) == 1 else outs\n",
        "  \n",
        "  def parameters(self):\n",
        "    return [p for neuron in self.neurons for p in neuron.parameters()]   ##\n",
        "\n",
        "class MLP:\n",
        "  \n",
        "  def __init__(self, connections, mlp_skeleton):\n",
        "    sz = [connections] + mlp_skeleton\n",
        "    self.layers = [Layer(sz[i], sz[i+1]) for i in range(len(mlp_skeleton))]\n",
        "  \n",
        "  def __call__(self, x):\n",
        "    for layer in self.layers:\n",
        "      x = layer(x)\n",
        "    return x\n",
        "  \n",
        "  def parameters(self):\n",
        "    return [p for layer in self.layers for p in layer.parameters()]"
      ]
    },
    {
      "cell_type": "code",
      "execution_count": null,
      "metadata": {
        "colab": {
          "base_uri": "https://localhost:8080/"
        },
        "id": "S1sykeCkfvT6",
        "outputId": "70fb0098-d767-4889-a4a9-6c1d48c2cbf8"
      },
      "outputs": [
        {
          "data": {
            "text/plain": [
              "Value(data = 0.21320774197224582)"
            ]
          },
          "execution_count": 20,
          "metadata": {},
          "output_type": "execute_result"
        }
      ],
      "source": [
        "x = [2.0, 3.0, -1.0]\n",
        "n = MLP(3, [4, 4, 1])\n",
        "n(x)"
      ]
    },
    {
      "cell_type": "code",
      "execution_count": null,
      "metadata": {
        "id": "024I8e8VrKbu"
      },
      "outputs": [],
      "source": [
        "draw_dot(n(x))"
      ]
    },
    {
      "cell_type": "code",
      "execution_count": null,
      "metadata": {
        "colab": {
          "base_uri": "https://localhost:8080/"
        },
        "id": "9OeAttQrwFt4",
        "outputId": "6a410611-4249-4ad5-dc8d-ed075212824f"
      },
      "outputs": [
        {
          "name": "stdout",
          "output_type": "stream",
          "text": [
            "Value(data = 0.21320774197224582)\n",
            "Value(data = 0.32674967088668894)\n",
            "Value(data = 0.5982767232708908)\n",
            "Value(data = 0.14241077525832843)\n",
            "[Value(data = 0.21320774197224582), Value(data = 0.32674967088668894), Value(data = 0.5982767232708908), Value(data = 0.14241077525832843)]\n"
          ]
        }
      ],
      "source": [
        "xs = [\n",
        "  [2.0, 3.0, -1.0],\n",
        "  [3.0, -1.0, 0.5],\n",
        "  [0.5, 1.0, 1.0],\n",
        "  [1.0, 1.0, -1.0],\n",
        "]\n",
        "ydesired = [1.0, -1.0, -1.0, 1.0] # desired targets\n",
        "\n",
        "ypred=[]\n",
        "\n",
        "for x in xs:\n",
        "  youtput = n(x)\n",
        "  ypred.append(youtput) \n",
        "  print(youtput)\n"
      ]
    },
    {
      "cell_type": "code",
      "execution_count": null,
      "metadata": {
        "colab": {
          "base_uri": "https://localhost:8080/"
        },
        "id": "E2tUd-OnwEvk",
        "outputId": "5ea29cf6-5fa6-4ca4-e5a8-64fedc18ef76"
      },
      "outputs": [
        {
          "name": "stdout",
          "output_type": "stream",
          "text": [
            "[Value(data = 0.21320774197224582), Value(data = 0.32674967088668894), Value(data = 0.5982767232708908), Value(data = 0.14241077525832843)]\n"
          ]
        }
      ],
      "source": [
        "print(ypred)"
      ]
    },
    {
      "cell_type": "code",
      "execution_count": null,
      "metadata": {
        "colab": {
          "base_uri": "https://localhost:8080/",
          "height": 183
        },
        "id": "w1bxRHenp4yt",
        "outputId": "d4335671-61ac-40e3-e208-5e60c6bada14"
      },
      "outputs": [
        {
          "ename": "TypeError",
          "evalue": "ignored",
          "output_type": "error",
          "traceback": [
            "\u001b[0;31m---------------------------------------------------------------------------\u001b[0m",
            "\u001b[0;31mTypeError\u001b[0m                                 Traceback (most recent call last)",
            "\u001b[0;32m<ipython-input-24-aceef54c47ec>\u001b[0m in \u001b[0;36m<module>\u001b[0;34m\u001b[0m\n\u001b[0;32m----> 1\u001b[0;31m \u001b[0mloss\u001b[0m \u001b[0;34m=\u001b[0m \u001b[0msum\u001b[0m \u001b[0;34m(\u001b[0m\u001b[0;34m(\u001b[0m\u001b[0myout\u001b[0m \u001b[0;34m-\u001b[0m \u001b[0mygt\u001b[0m\u001b[0;34m)\u001b[0m\u001b[0;34m**\u001b[0m\u001b[0;36m2\u001b[0m \u001b[0;32mfor\u001b[0m \u001b[0mygt\u001b[0m\u001b[0;34m,\u001b[0m\u001b[0myout\u001b[0m \u001b[0;32min\u001b[0m \u001b[0mzip\u001b[0m\u001b[0;34m(\u001b[0m\u001b[0mydesired\u001b[0m\u001b[0;34m,\u001b[0m \u001b[0mypred\u001b[0m\u001b[0;34m)\u001b[0m\u001b[0;34m)\u001b[0m\u001b[0;34m\u001b[0m\u001b[0;34m\u001b[0m\u001b[0m\n\u001b[0m\u001b[1;32m      2\u001b[0m \u001b[0mprint\u001b[0m\u001b[0;34m(\u001b[0m\u001b[0mloss\u001b[0m\u001b[0;34m)\u001b[0m\u001b[0;34m\u001b[0m\u001b[0;34m\u001b[0m\u001b[0m\n",
            "\u001b[0;31mTypeError\u001b[0m: unsupported operand type(s) for +: 'int' and 'Variable'"
          ]
        }
      ],
      "source": [
        "loss = sum ((yout - ygt)**2 for ygt,yout in zip(ydesired, ypred))\n",
        "print(loss)"
      ]
    },
    {
      "cell_type": "code",
      "execution_count": null,
      "metadata": {
        "colab": {
          "base_uri": "https://localhost:8080/"
        },
        "id": "YB68GHNXwghU",
        "outputId": "ce982e9a-f029-4650-e6dc-d676857e7f2a"
      },
      "outputs": [
        {
          "data": {
            "text/plain": [
              "[Value(data = 0.6190420572924121),\n",
              " Value(data = 1.7602646891979372),\n",
              " Value(data = 2.5544884841495357),\n",
              " Value(data = 0.7354592783930212)]"
            ]
          },
          "execution_count": 24,
          "metadata": {},
          "output_type": "execute_result"
        }
      ],
      "source": [
        "L = [(yout - ygt)**2 for ygt,yout in zip(ydesired, ypred)]\n",
        "L"
      ]
    },
    {
      "cell_type": "code",
      "execution_count": null,
      "metadata": {
        "colab": {
          "base_uri": "https://localhost:8080/"
        },
        "id": "BA1tk8opwIR2",
        "outputId": "ec88e562-6f6d-490f-92d3-203321817b44"
      },
      "outputs": [
        {
          "name": "stdout",
          "output_type": "stream",
          "text": [
            "Value(data = 5.669254509032906)\n"
          ]
        }
      ],
      "source": [
        "loss = Variable(0)\n",
        "for i in L:\n",
        "  loss = loss + i\n",
        "\n",
        "print(loss)\n"
      ]
    },
    {
      "cell_type": "code",
      "execution_count": null,
      "metadata": {
        "id": "8NY_03eKE_0W"
      },
      "outputs": [],
      "source": [
        "## All the below steps perform a gradient descent step in the direction of minimal loss ##"
      ]
    },
    {
      "cell_type": "code",
      "execution_count": null,
      "metadata": {
        "id": "1tksZ3Ct66gX"
      },
      "outputs": [],
      "source": [
        "# Nudging the weights\n",
        "for p in n.parameters():\n",
        "  p.value += -0.1 * p.grad"
      ]
    },
    {
      "cell_type": "code",
      "execution_count": null,
      "metadata": {
        "id": "YZpC0CtQwuc2"
      },
      "outputs": [],
      "source": [
        "#forward pass\n",
        "ypred = [n(x) for x in xs]\n"
      ]
    },
    {
      "cell_type": "code",
      "execution_count": null,
      "metadata": {
        "id": "5IsaWacwxGCM"
      },
      "outputs": [],
      "source": [
        " # backward pass\n",
        "for p in n.parameters():\n",
        "    p.grad = 0.0\n",
        "loss.backward()"
      ]
    },
    {
      "cell_type": "code",
      "execution_count": null,
      "metadata": {
        "colab": {
          "base_uri": "https://localhost:8080/"
        },
        "id": "7-9Jp93fVnHH",
        "outputId": "f213c8d6-2295-4a4e-8413-e7a891b5dacf"
      },
      "outputs": [
        {
          "name": "stdout",
          "output_type": "stream",
          "text": [
            "Value(data = 0.029424708072214485)\n"
          ]
        }
      ],
      "source": [
        "L = [(yout - ygt)**2 for ygt,yout in zip(ydesired, ypred)]\n",
        "loss = Variable(0)\n",
        "for i in L:\n",
        "  loss = loss + i\n",
        "\n",
        "print(loss)"
      ]
    },
    {
      "cell_type": "code",
      "execution_count": null,
      "metadata": {
        "id": "Wu3gTqhcylpf"
      },
      "outputs": [],
      "source": [
        "# These are the weights corresponding to significantly good loss of only 0.029424     By the way do some more gradient descents to get less loss if you want\n",
        "n.parameters()"
      ]
    },
    {
      "cell_type": "code",
      "execution_count": null,
      "metadata": {
        "id": "Cxjvyk3t1Ynp"
      },
      "outputs": [],
      "source": [
        "class Parent:\n",
        "  def "
      ]
    }
  ],
  "metadata": {
    "colab": {
      "provenance": []
    },
    "kernelspec": {
      "display_name": "Python 3",
      "language": "python",
      "name": "python3"
    },
    "language_info": {
      "name": "python",
      "version": "3.10.10 (tags/v3.10.10:aad5f6a, Feb  7 2023, 17:20:36) [MSC v.1929 64 bit (AMD64)]"
    },
    "vscode": {
      "interpreter": {
        "hash": "bb368e6b7c2f70bd0a506bfbe2d7ef6fc960fe03be0c423c6960d49b6c61ce54"
      }
    }
  },
  "nbformat": 4,
  "nbformat_minor": 0
}
